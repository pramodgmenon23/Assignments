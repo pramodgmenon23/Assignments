{
 "cells": [
  {
   "cell_type": "markdown",
   "metadata": {},
   "source": [
    "# 3.\n",
    "# Implement a function longestWord() that takes a list of words and returns the longest one."
   ]
  },
  {
   "cell_type": "code",
   "execution_count": 50,
   "metadata": {},
   "outputs": [
    {
     "name": "stdout",
     "output_type": "stream",
     "text": [
      "enter the words, Type stop to exit:a\n",
      "enter the words, Type stop to exit:as\n",
      "enter the words, Type stop to exit:asd\n",
      "enter the words, Type stop to exit:asdf\n",
      "enter the words, Type stop to exit:stop\n",
      "largest word is asdf and its length is 4\n"
     ]
    }
   ],
   "source": [
    "def longestWord(l):\n",
    "\n",
    "    l_word =\"\"\n",
    "    l_length = 0\n",
    "    for words in l:\n",
    "        if l_length<len(words):\n",
    "            l_length=len(words)\n",
    "            l_word=words\n",
    "    print(\"largest word is {} and its length is {}\".format(l_word,l_length))\n",
    "    \n",
    "l=[]\n",
    "word=\"\"\n",
    "while word !=\"stop\":\n",
    "    word = input(\"enter the words, Type stop to exit:\" )\n",
    "    l.append(word)\n",
    "\n",
    "longestWord(l) "
   ]
  },
  {
   "cell_type": "markdown",
   "metadata": {},
   "source": [
    "# 2.2\n",
    "# Write a Python function which takes a character (i.e. a string of length 1) and returns True if it is a vowel, False otherwise."
   ]
  },
  {
   "cell_type": "code",
   "execution_count": 51,
   "metadata": {},
   "outputs": [
    {
     "name": "stdout",
     "output_type": "stream",
     "text": [
      "Enter a character:E\n",
      "Enter character E is a vowel\n"
     ]
    }
   ],
   "source": [
    "v =['a','e','i','o','u']\n",
    "s = input(\"Enter a character:\")\n",
    "if len(s)>1:\n",
    "    print(\"You have entered more than 1 character, Pls input only 1 character\")\n",
    "elif len(s)==0:\n",
    "        print(\"You have not entered anything\")\n",
    "else:\n",
    "    if s.lower() in v:\n",
    "        print('Enter character {} is a vowel'.format(s))\n",
    "    else:\n",
    "        print(\"It is not a vowel\")"
   ]
  },
  {
   "cell_type": "markdown",
   "metadata": {},
   "source": [
    "# 2. Write List comprehensions to produce the following Lists\n",
    "# ['A', 'C', 'A', 'D', 'G', 'I', ’L’, ‘ D’]"
   ]
  },
  {
   "cell_type": "code",
   "execution_count": 55,
   "metadata": {},
   "outputs": [
    {
     "name": "stdout",
     "output_type": "stream",
     "text": [
      "['A', 'C', 'A', 'D', 'G', 'I', 'L', 'D']\n"
     ]
    }
   ],
   "source": [
    "word = \"ACADGILD\"\n",
    "alphabet_list = [ alphabet for alphabet in word ]\n",
    "print(alphabet_list)"
   ]
  },
  {
   "cell_type": "markdown",
   "metadata": {},
   "source": [
    "# ['x', 'xx', 'xxx', 'xxxx', 'y', 'yy', 'yyy', 'yyyy', 'z', 'zz', 'zzz', 'zzzz']"
   ]
  },
  {
   "cell_type": "code",
   "execution_count": 57,
   "metadata": {},
   "outputs": [
    {
     "name": "stdout",
     "output_type": "stream",
     "text": [
      "['x', 'xx', 'xxx', 'xxxx', 'y', 'yy', 'yyy', 'yyyy', 'z', 'zz', 'zzz', 'zzzz']\n"
     ]
    }
   ],
   "source": [
    "lst = ['x','y','z']\n",
    "out = [ c*i for c in lst for i in range(1,5)]\n",
    "print(out) "
   ]
  },
  {
   "cell_type": "markdown",
   "metadata": {},
   "source": [
    "# ['x', 'y', 'z', 'xx', 'yy', 'zz', 'xx', 'yy', 'zz', 'xxxx', 'yyyy', 'zzzz']"
   ]
  },
  {
   "cell_type": "code",
   "execution_count": 56,
   "metadata": {},
   "outputs": [
    {
     "name": "stdout",
     "output_type": "stream",
     "text": [
      "['x', 'y', 'z', 'xx', 'yy', 'zz', 'xxx', 'yyy', 'zzz', 'xxxx', 'yyyy', 'zzzz']\n"
     ]
    }
   ],
   "source": [
    "lst2 = ['x','y','z']\n",
    "out2 = [ c*i for i in range(1,5) for c in lst2 ]\n",
    "print(out2) "
   ]
  },
  {
   "cell_type": "markdown",
   "metadata": {},
   "source": [
    "# [[2], [3], [4], [3], [4], [5], [4], [5], [6]]"
   ]
  },
  {
   "cell_type": "code",
   "execution_count": 65,
   "metadata": {},
   "outputs": [
    {
     "name": "stdout",
     "output_type": "stream",
     "text": [
      "[[2], [3], [4], [3], [4], [5], [4], [5], [6]]\n"
     ]
    }
   ],
   "source": [
    "lst3 = [2,3,4]\n",
    "out3 = [ [item+i] for item in lst3 for i in range(0,3)]\n",
    "print(out3)"
   ]
  },
  {
   "cell_type": "markdown",
   "metadata": {},
   "source": [
    "# [[2, 3, 4, 5], [3, 4, 5, 6], [4, 5, 6, 7], [5, 6, 7, 8]]"
   ]
  },
  {
   "cell_type": "code",
   "execution_count": 66,
   "metadata": {},
   "outputs": [
    {
     "name": "stdout",
     "output_type": "stream",
     "text": [
      "[[2, 3, 4, 5], [3, 4, 5, 6], [4, 5, 6, 7], [5, 6, 7, 8]]\n"
     ]
    }
   ],
   "source": [
    "lst4 = [2,3,4,5]\n",
    "out4 = [ [item+i for i in range(0,4)] for item in lst4]\n",
    "print(out4)"
   ]
  },
  {
   "cell_type": "markdown",
   "metadata": {},
   "source": [
    "# [(1, 1), (2, 1), (3, 1), (1, 2), (2, 2), (3, 2), (1, 3), (2, 3), (3, 3)]"
   ]
  },
  {
   "cell_type": "code",
   "execution_count": 67,
   "metadata": {},
   "outputs": [
    {
     "name": "stdout",
     "output_type": "stream",
     "text": [
      "[(1, 1), (2, 1), (3, 1), (1, 2), (2, 2), (3, 2), (1, 3), (2, 3), (3, 3)]\n"
     ]
    }
   ],
   "source": [
    "lst5 =[1,2,3]\n",
    "out5 = [(i,item) for item in lst5 for i in range(1,4) ]\n",
    "print(out5)"
   ]
  },
  {
   "cell_type": "markdown",
   "metadata": {},
   "source": [
    "# 1.1\n",
    "# Write a Python Program to implement your own myreduce() function which works exactly like Python's built-in function reduce()"
   ]
  },
  {
   "cell_type": "code",
   "execution_count": 86,
   "metadata": {},
   "outputs": [
    {
     "data": {
      "text/plain": [
       "60"
      ]
     },
     "execution_count": 86,
     "metadata": {},
     "output_type": "execute_result"
    }
   ],
   "source": [
    "def myreduce(func, lst):\n",
    "    output = 0\n",
    "    for i in range (0,len(lst)):\n",
    "        output = func(output, lst[i])\n",
    "\n",
    "    return output\n",
    "\n",
    "def add(x,y): \n",
    "    return x + y\n",
    "\n",
    "myreduce(add, [10,20,30])"
   ]
  },
  {
   "cell_type": "markdown",
   "metadata": {},
   "source": [
    "# 1.2\n",
    "# Write a Python program to implement your own myfilter() function which works exactly like Python's built-in function filter()"
   ]
  },
  {
   "cell_type": "code",
   "execution_count": 81,
   "metadata": {},
   "outputs": [
    {
     "data": {
      "text/plain": [
       "('EVEN:', [2, 4, 6, 8], 'ODD:', [1, 3, 5, 7, 9])"
      ]
     },
     "execution_count": 81,
     "metadata": {},
     "output_type": "execute_result"
    }
   ],
   "source": [
    "def myfilter(func2, lst2):\n",
    "    str1=\"EVEN:\"\n",
    "    str2=\"ODD:\"\n",
    "    output2,output3 = [],[]\n",
    "    for item in lst2:\n",
    "        if func2(item)==\"Even\":\n",
    "            output2.append(item)\n",
    "            \n",
    "        else:\n",
    "            output3.append(item)\n",
    "            \n",
    "    return str1,output2,str2,output3\n",
    "    \n",
    "    \n",
    "\n",
    "def evenorodd(x):\n",
    "     if (x%2== 0): \n",
    "        return \"Even\"\n",
    "     else: \n",
    "        return \"ODD\"\n",
    "    \n",
    "myfilter(evenorodd,[1,2,3,4,5,6,7,8,9])"
   ]
  },
  {
   "cell_type": "markdown",
   "metadata": {},
   "source": [
    "# 1.1\n",
    "# Write a Python Program(with class concepts) to find the area of the triangle using the below formula.\n",
    "# area = (s*(s-a)*(s-b)*(s-c)) ** 0.5\n",
    "\n",
    "# Function to take the length of the sides of triangle from user should be defined in the parent class and function to calculate the area should be defined in subclass."
   ]
  },
  {
   "cell_type": "code",
   "execution_count": 195,
   "metadata": {},
   "outputs": [
    {
     "name": "stdout",
     "output_type": "stream",
     "text": [
      "Enter length of side A: 3\n",
      "Enter length of side B: 4\n",
      "Enter length of side C: 5\n",
      "Area of Triangle= 6.0\n"
     ]
    }
   ],
   "source": [
    "import math\n",
    "class triangle():\n",
    "    def __init__(self,side_a,side_b,side_c):\n",
    "        self.side_a =side_a\n",
    "        self.side_b=side_b\n",
    "        self.side_c=side_c\n",
    "    \n",
    "class areaT(triangle):\n",
    "    def __init__(self,*args):\n",
    "        super(areaT,self).__init__(*args)\n",
    "        \n",
    "    def area(self,*args):\n",
    "        s=(self.side_a+self.side_b+self.side_c)/2\n",
    "        return s\n",
    "        return math.sqrt(s*(s-self.side_a)*(s-self.side_b)*(s-self.side_c))\n",
    "\n",
    "a=int(input(\"Enter length of side A: \"))\n",
    "b=int(input(\"Enter length of side B: \"))\n",
    "c=int(input(\"Enter length of side C: \"))\n",
    "t=areaT(a,b,c)\n",
    "print(\"Area of Triangle=\",t.area())"
   ]
  },
  {
   "cell_type": "markdown",
   "metadata": {},
   "source": [
    "# 1.2\n",
    "# Write a function filter_long_words() that takes a list of words and an integer n and returns the list of words that are longer than n."
   ]
  },
  {
   "cell_type": "code",
   "execution_count": 199,
   "metadata": {},
   "outputs": [
    {
     "name": "stdout",
     "output_type": "stream",
     "text": [
      "enter the length to be tested:2\n",
      "enter the words, Type stop to exit:a\n",
      "enter the words, Type stop to exit:b\n",
      "enter the words, Type stop to exit:aaa\n",
      "enter the words, Type stop to exit:bbb\n",
      "enter the words, Type stop to exit:ccc\n",
      "enter the words, Type stop to exit:stop\n",
      "words longer than 2 are ['aaa', 'bbb', 'ccc', 'stop']\n"
     ]
    }
   ],
   "source": [
    "def filter_long_words(length,l):\n",
    "\n",
    "    l_word =[]\n",
    "    for words in l:\n",
    "        if length<len(words):\n",
    "            l_word.append(words)\n",
    "    print(\"words longer than {} are {}\".format(length,l_word))\n",
    "    \n",
    "l=[]\n",
    "word=\"\"\n",
    "length = int(input(\"enter the length to be tested:\" ))\n",
    "while word !=\"stop\":\n",
    "    word = input(\"enter the words, Type stop to exit:\" )\n",
    "    l.append(word)\n",
    "\n",
    "filter_long_words(length,l) "
   ]
  },
  {
   "cell_type": "code",
   "execution_count": null,
   "metadata": {},
   "outputs": [],
   "source": []
  },
  {
   "cell_type": "markdown",
   "metadata": {},
   "source": [
    "# 2.1\n",
    "# Write a Python program using function concept that maps list of words into a list of integers representing the lengths of the corresponding words .\n",
    "Hint: If a list [ ab,cde,erty] is passed on to the python function output should come as [2,3,4]\n",
    "Here 2,3 and 4 are the lengths of the words in the list."
   ]
  },
  {
   "cell_type": "code",
   "execution_count": 211,
   "metadata": {},
   "outputs": [
    {
     "name": "stdout",
     "output_type": "stream",
     "text": [
      "[2, 5, 7, 7]\n"
     ]
    }
   ],
   "source": [
    "    \n",
    "lst9 =['xx','yyyyy','xxxxxxx','fffffff']   \n",
    "out9 = [ len(c) for c in lst9 ]\n",
    "print(out9) "
   ]
  },
  {
   "cell_type": "code",
   "execution_count": null,
   "metadata": {},
   "outputs": [],
   "source": []
  }
 ],
 "metadata": {
  "kernelspec": {
   "display_name": "Python 3",
   "language": "python",
   "name": "python3"
  },
  "language_info": {
   "codemirror_mode": {
    "name": "ipython",
    "version": 3
   },
   "file_extension": ".py",
   "mimetype": "text/x-python",
   "name": "python",
   "nbconvert_exporter": "python",
   "pygments_lexer": "ipython3",
   "version": "3.7.5"
  }
 },
 "nbformat": 4,
 "nbformat_minor": 4
}
